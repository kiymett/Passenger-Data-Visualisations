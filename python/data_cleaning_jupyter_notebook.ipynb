{
 "cells": [
  {
   "cell_type": "code",
   "execution_count": 2,
   "id": "948398be",
   "metadata": {},
   "outputs": [],
   "source": [
    "import pandas as pd\n",
    "import numpy as np"
   ]
  },
  {
   "cell_type": "code",
   "execution_count": 5,
   "id": "cc368e0d",
   "metadata": {},
   "outputs": [],
   "source": [
    "df=pd.read_csv('US Monthly Air Passengers.csv')"
   ]
  },
  {
   "cell_type": "code",
   "execution_count": 6,
   "id": "b9b7d144",
   "metadata": {},
   "outputs": [
    {
     "data": {
      "text/html": [
       "<div>\n",
       "<style scoped>\n",
       "    .dataframe tbody tr th:only-of-type {\n",
       "        vertical-align: middle;\n",
       "    }\n",
       "\n",
       "    .dataframe tbody tr th {\n",
       "        vertical-align: top;\n",
       "    }\n",
       "\n",
       "    .dataframe thead th {\n",
       "        text-align: right;\n",
       "    }\n",
       "</style>\n",
       "<table border=\"1\" class=\"dataframe\">\n",
       "  <thead>\n",
       "    <tr style=\"text-align: right;\">\n",
       "      <th></th>\n",
       "      <th>Sum_PASSENGERS</th>\n",
       "      <th>AIRLINE_ID</th>\n",
       "      <th>CARRIER_NAME</th>\n",
       "      <th>ORIGIN</th>\n",
       "      <th>ORIGIN_CITY_NAME</th>\n",
       "      <th>ORIGIN_STATE_ABR</th>\n",
       "      <th>ORIGIN_STATE_NM</th>\n",
       "      <th>ORIGIN_COUNTRY</th>\n",
       "      <th>ORIGIN_COUNTRY_NAME</th>\n",
       "      <th>DEST</th>\n",
       "      <th>DEST_CITY_NAME</th>\n",
       "      <th>DEST_STATE_ABR</th>\n",
       "      <th>DEST_STATE_NM</th>\n",
       "      <th>DEST_COUNTRY</th>\n",
       "      <th>DEST_COUNTRY_NAME</th>\n",
       "      <th>YEAR</th>\n",
       "      <th>MONTH</th>\n",
       "    </tr>\n",
       "  </thead>\n",
       "  <tbody>\n",
       "    <tr>\n",
       "      <th>0</th>\n",
       "      <td>0</td>\n",
       "      <td>NaN</td>\n",
       "      <td>NaN</td>\n",
       "      <td>AEX</td>\n",
       "      <td>Alexandria, LA</td>\n",
       "      <td>LA</td>\n",
       "      <td>Louisiana</td>\n",
       "      <td>US</td>\n",
       "      <td>United States</td>\n",
       "      <td>AEX</td>\n",
       "      <td>Alexandria, LA</td>\n",
       "      <td>LA</td>\n",
       "      <td>Louisiana</td>\n",
       "      <td>US</td>\n",
       "      <td>United States</td>\n",
       "      <td>2015</td>\n",
       "      <td>3</td>\n",
       "    </tr>\n",
       "    <tr>\n",
       "      <th>1</th>\n",
       "      <td>0</td>\n",
       "      <td>NaN</td>\n",
       "      <td>NaN</td>\n",
       "      <td>AEX</td>\n",
       "      <td>Alexandria, LA</td>\n",
       "      <td>LA</td>\n",
       "      <td>Louisiana</td>\n",
       "      <td>US</td>\n",
       "      <td>United States</td>\n",
       "      <td>AFW</td>\n",
       "      <td>Dallas/Fort Worth, TX</td>\n",
       "      <td>TX</td>\n",
       "      <td>Texas</td>\n",
       "      <td>US</td>\n",
       "      <td>United States</td>\n",
       "      <td>2015</td>\n",
       "      <td>4</td>\n",
       "    </tr>\n",
       "    <tr>\n",
       "      <th>2</th>\n",
       "      <td>0</td>\n",
       "      <td>NaN</td>\n",
       "      <td>NaN</td>\n",
       "      <td>AEX</td>\n",
       "      <td>Alexandria, LA</td>\n",
       "      <td>LA</td>\n",
       "      <td>Louisiana</td>\n",
       "      <td>US</td>\n",
       "      <td>United States</td>\n",
       "      <td>ATL</td>\n",
       "      <td>Atlanta, GA</td>\n",
       "      <td>GA</td>\n",
       "      <td>Georgia</td>\n",
       "      <td>US</td>\n",
       "      <td>United States</td>\n",
       "      <td>2015</td>\n",
       "      <td>3</td>\n",
       "    </tr>\n",
       "    <tr>\n",
       "      <th>3</th>\n",
       "      <td>89</td>\n",
       "      <td>NaN</td>\n",
       "      <td>NaN</td>\n",
       "      <td>AEX</td>\n",
       "      <td>Alexandria, LA</td>\n",
       "      <td>LA</td>\n",
       "      <td>Louisiana</td>\n",
       "      <td>US</td>\n",
       "      <td>United States</td>\n",
       "      <td>BOG</td>\n",
       "      <td>Bogota, Colombia</td>\n",
       "      <td>NaN</td>\n",
       "      <td>NaN</td>\n",
       "      <td>CO</td>\n",
       "      <td>Colombia</td>\n",
       "      <td>2015</td>\n",
       "      <td>1</td>\n",
       "    </tr>\n",
       "    <tr>\n",
       "      <th>4</th>\n",
       "      <td>108</td>\n",
       "      <td>NaN</td>\n",
       "      <td>NaN</td>\n",
       "      <td>AEX</td>\n",
       "      <td>Alexandria, LA</td>\n",
       "      <td>LA</td>\n",
       "      <td>Louisiana</td>\n",
       "      <td>US</td>\n",
       "      <td>United States</td>\n",
       "      <td>BOG</td>\n",
       "      <td>Bogota, Colombia</td>\n",
       "      <td>NaN</td>\n",
       "      <td>NaN</td>\n",
       "      <td>CO</td>\n",
       "      <td>Colombia</td>\n",
       "      <td>2015</td>\n",
       "      <td>3</td>\n",
       "    </tr>\n",
       "  </tbody>\n",
       "</table>\n",
       "</div>"
      ],
      "text/plain": [
       "   Sum_PASSENGERS  AIRLINE_ID CARRIER_NAME ORIGIN ORIGIN_CITY_NAME  \\\n",
       "0               0         NaN          NaN    AEX   Alexandria, LA   \n",
       "1               0         NaN          NaN    AEX   Alexandria, LA   \n",
       "2               0         NaN          NaN    AEX   Alexandria, LA   \n",
       "3              89         NaN          NaN    AEX   Alexandria, LA   \n",
       "4             108         NaN          NaN    AEX   Alexandria, LA   \n",
       "\n",
       "  ORIGIN_STATE_ABR ORIGIN_STATE_NM ORIGIN_COUNTRY ORIGIN_COUNTRY_NAME DEST  \\\n",
       "0               LA       Louisiana             US       United States  AEX   \n",
       "1               LA       Louisiana             US       United States  AFW   \n",
       "2               LA       Louisiana             US       United States  ATL   \n",
       "3               LA       Louisiana             US       United States  BOG   \n",
       "4               LA       Louisiana             US       United States  BOG   \n",
       "\n",
       "          DEST_CITY_NAME DEST_STATE_ABR DEST_STATE_NM DEST_COUNTRY  \\\n",
       "0         Alexandria, LA             LA     Louisiana           US   \n",
       "1  Dallas/Fort Worth, TX             TX         Texas           US   \n",
       "2            Atlanta, GA             GA       Georgia           US   \n",
       "3       Bogota, Colombia            NaN           NaN           CO   \n",
       "4       Bogota, Colombia            NaN           NaN           CO   \n",
       "\n",
       "  DEST_COUNTRY_NAME  YEAR  MONTH  \n",
       "0     United States  2015      3  \n",
       "1     United States  2015      4  \n",
       "2     United States  2015      3  \n",
       "3          Colombia  2015      1  \n",
       "4          Colombia  2015      3  "
      ]
     },
     "execution_count": 6,
     "metadata": {},
     "output_type": "execute_result"
    }
   ],
   "source": [
    "df.head()"
   ]
  },
  {
   "cell_type": "code",
   "execution_count": 7,
   "id": "70c07514",
   "metadata": {},
   "outputs": [
    {
     "data": {
      "text/html": [
       "<div>\n",
       "<style scoped>\n",
       "    .dataframe tbody tr th:only-of-type {\n",
       "        vertical-align: middle;\n",
       "    }\n",
       "\n",
       "    .dataframe tbody tr th {\n",
       "        vertical-align: top;\n",
       "    }\n",
       "\n",
       "    .dataframe thead th {\n",
       "        text-align: right;\n",
       "    }\n",
       "</style>\n",
       "<table border=\"1\" class=\"dataframe\">\n",
       "  <thead>\n",
       "    <tr style=\"text-align: right;\">\n",
       "      <th></th>\n",
       "      <th>Sum_PASSENGERS</th>\n",
       "      <th>AIRLINE_ID</th>\n",
       "      <th>YEAR</th>\n",
       "      <th>MONTH</th>\n",
       "    </tr>\n",
       "  </thead>\n",
       "  <tbody>\n",
       "    <tr>\n",
       "      <th>count</th>\n",
       "      <td>6.278820e+06</td>\n",
       "      <td>6.278372e+06</td>\n",
       "      <td>6.278820e+06</td>\n",
       "      <td>6.278820e+06</td>\n",
       "    </tr>\n",
       "    <tr>\n",
       "      <th>mean</th>\n",
       "      <td>2.701670e+03</td>\n",
       "      <td>2.011377e+04</td>\n",
       "      <td>2.010136e+03</td>\n",
       "      <td>6.487506e+00</td>\n",
       "    </tr>\n",
       "    <tr>\n",
       "      <th>std</th>\n",
       "      <td>5.767481e+03</td>\n",
       "      <td>4.396388e+02</td>\n",
       "      <td>5.745520e+00</td>\n",
       "      <td>3.460352e+00</td>\n",
       "    </tr>\n",
       "    <tr>\n",
       "      <th>min</th>\n",
       "      <td>0.000000e+00</td>\n",
       "      <td>1.938500e+04</td>\n",
       "      <td>2.000000e+03</td>\n",
       "      <td>1.000000e+00</td>\n",
       "    </tr>\n",
       "    <tr>\n",
       "      <th>25%</th>\n",
       "      <td>6.000000e+00</td>\n",
       "      <td>1.980500e+04</td>\n",
       "      <td>2.005000e+03</td>\n",
       "      <td>3.000000e+00</td>\n",
       "    </tr>\n",
       "    <tr>\n",
       "      <th>50%</th>\n",
       "      <td>2.270000e+02</td>\n",
       "      <td>2.022500e+04</td>\n",
       "      <td>2.010000e+03</td>\n",
       "      <td>6.000000e+00</td>\n",
       "    </tr>\n",
       "    <tr>\n",
       "      <th>75%</th>\n",
       "      <td>3.026000e+03</td>\n",
       "      <td>2.037400e+04</td>\n",
       "      <td>2.015000e+03</td>\n",
       "      <td>9.000000e+00</td>\n",
       "    </tr>\n",
       "    <tr>\n",
       "      <th>max</th>\n",
       "      <td>1.637640e+05</td>\n",
       "      <td>2.207400e+04</td>\n",
       "      <td>2.020000e+03</td>\n",
       "      <td>1.200000e+01</td>\n",
       "    </tr>\n",
       "  </tbody>\n",
       "</table>\n",
       "</div>"
      ],
      "text/plain": [
       "       Sum_PASSENGERS    AIRLINE_ID          YEAR         MONTH\n",
       "count    6.278820e+06  6.278372e+06  6.278820e+06  6.278820e+06\n",
       "mean     2.701670e+03  2.011377e+04  2.010136e+03  6.487506e+00\n",
       "std      5.767481e+03  4.396388e+02  5.745520e+00  3.460352e+00\n",
       "min      0.000000e+00  1.938500e+04  2.000000e+03  1.000000e+00\n",
       "25%      6.000000e+00  1.980500e+04  2.005000e+03  3.000000e+00\n",
       "50%      2.270000e+02  2.022500e+04  2.010000e+03  6.000000e+00\n",
       "75%      3.026000e+03  2.037400e+04  2.015000e+03  9.000000e+00\n",
       "max      1.637640e+05  2.207400e+04  2.020000e+03  1.200000e+01"
      ]
     },
     "execution_count": 7,
     "metadata": {},
     "output_type": "execute_result"
    }
   ],
   "source": [
    "df.describe()"
   ]
  },
  {
   "cell_type": "code",
   "execution_count": 9,
   "id": "f563b760",
   "metadata": {},
   "outputs": [
    {
     "name": "stdout",
     "output_type": "stream",
     "text": [
      "<class 'pandas.core.frame.DataFrame'>\n",
      "RangeIndex: 6278820 entries, 0 to 6278819\n",
      "Data columns (total 17 columns):\n",
      " #   Column               Dtype  \n",
      "---  ------               -----  \n",
      " 0   Sum_PASSENGERS       int64  \n",
      " 1   AIRLINE_ID           float64\n",
      " 2   CARRIER_NAME         object \n",
      " 3   ORIGIN               object \n",
      " 4   ORIGIN_CITY_NAME     object \n",
      " 5   ORIGIN_STATE_ABR     object \n",
      " 6   ORIGIN_STATE_NM      object \n",
      " 7   ORIGIN_COUNTRY       object \n",
      " 8   ORIGIN_COUNTRY_NAME  object \n",
      " 9   DEST                 object \n",
      " 10  DEST_CITY_NAME       object \n",
      " 11  DEST_STATE_ABR       object \n",
      " 12  DEST_STATE_NM        object \n",
      " 13  DEST_COUNTRY         object \n",
      " 14  DEST_COUNTRY_NAME    object \n",
      " 15  YEAR                 int64  \n",
      " 16  MONTH                int64  \n",
      "dtypes: float64(1), int64(3), object(13)\n",
      "memory usage: 814.4+ MB\n"
     ]
    }
   ],
   "source": [
    "df.info()"
   ]
  },
  {
   "cell_type": "code",
   "execution_count": 10,
   "id": "5baa5455",
   "metadata": {},
   "outputs": [
    {
     "data": {
      "text/plain": [
       "Sum_PASSENGERS              0\n",
       "AIRLINE_ID                448\n",
       "CARRIER_NAME              448\n",
       "ORIGIN                      0\n",
       "ORIGIN_CITY_NAME            0\n",
       "ORIGIN_STATE_ABR       561441\n",
       "ORIGIN_STATE_NM        561441\n",
       "ORIGIN_COUNTRY              2\n",
       "ORIGIN_COUNTRY_NAME         0\n",
       "DEST                        0\n",
       "DEST_CITY_NAME              0\n",
       "DEST_STATE_ABR         589465\n",
       "DEST_STATE_NM          589465\n",
       "DEST_COUNTRY                7\n",
       "DEST_COUNTRY_NAME           0\n",
       "YEAR                        0\n",
       "MONTH                       0\n",
       "dtype: int64"
      ]
     },
     "execution_count": 10,
     "metadata": {},
     "output_type": "execute_result"
    }
   ],
   "source": [
    "df.isnull().sum()"
   ]
  },
  {
   "cell_type": "code",
   "execution_count": 11,
   "id": "de400f2a",
   "metadata": {},
   "outputs": [],
   "source": [
    "df['CARRIER_NAME'].fillna(\"No carrier name\", inplace = True)"
   ]
  },
  {
   "cell_type": "code",
   "execution_count": 12,
   "id": "b63d625b",
   "metadata": {},
   "outputs": [
    {
     "data": {
      "text/plain": [
       "0"
      ]
     },
     "execution_count": 12,
     "metadata": {},
     "output_type": "execute_result"
    }
   ],
   "source": [
    "df['CARRIER_NAME'].isnull().sum()"
   ]
  },
  {
   "cell_type": "code",
   "execution_count": 13,
   "id": "96de57f4",
   "metadata": {},
   "outputs": [
    {
     "data": {
      "text/plain": [
       "US    5599883\n",
       "CA     117496\n",
       "MX     111889\n",
       "GB      31953\n",
       "JP      28182\n",
       "       ...   \n",
       "AM          1\n",
       "KV          1\n",
       "TD          1\n",
       "MZ          1\n",
       "CD          1\n",
       "Name: ORIGIN_COUNTRY, Length: 198, dtype: int64"
      ]
     },
     "execution_count": 13,
     "metadata": {},
     "output_type": "execute_result"
    }
   ],
   "source": [
    "(df['ORIGIN_COUNTRY']).value_counts()"
   ]
  },
  {
   "cell_type": "code",
   "execution_count": 14,
   "id": "173516ed",
   "metadata": {},
   "outputs": [],
   "source": [
    "df['ORIGIN_COUNTRY'].fillna(\"US\", inplace = True )"
   ]
  },
  {
   "cell_type": "code",
   "execution_count": 15,
   "id": "64376c36",
   "metadata": {},
   "outputs": [
    {
     "data": {
      "text/plain": [
       "0"
      ]
     },
     "execution_count": 15,
     "metadata": {},
     "output_type": "execute_result"
    }
   ],
   "source": [
    "df['ORIGIN_COUNTRY'].isnull().sum()"
   ]
  },
  {
   "cell_type": "code",
   "execution_count": 16,
   "id": "7f09e84f",
   "metadata": {},
   "outputs": [
    {
     "data": {
      "text/plain": [
       "US    5571449\n",
       "CA     117906\n",
       "MX     115534\n",
       "GB      33718\n",
       "JP      29037\n",
       "       ...   \n",
       "ME          2\n",
       "BY          1\n",
       "SH          1\n",
       "MU          1\n",
       "YU          1\n",
       "Name: DEST_COUNTRY, Length: 207, dtype: int64"
      ]
     },
     "execution_count": 16,
     "metadata": {},
     "output_type": "execute_result"
    }
   ],
   "source": [
    "(df['DEST_COUNTRY']).value_counts()"
   ]
  },
  {
   "cell_type": "code",
   "execution_count": 17,
   "id": "eca816a8",
   "metadata": {},
   "outputs": [],
   "source": [
    "df['DEST_COUNTRY'].fillna(\"US\", inplace=True)"
   ]
  },
  {
   "cell_type": "code",
   "execution_count": 18,
   "id": "bf64612b",
   "metadata": {},
   "outputs": [
    {
     "data": {
      "text/plain": [
       "0"
      ]
     },
     "execution_count": 18,
     "metadata": {},
     "output_type": "execute_result"
    }
   ],
   "source": [
    "(df['DEST_COUNTRY']).isnull().sum()"
   ]
  },
  {
   "cell_type": "code",
   "execution_count": 19,
   "id": "e4b1aed8",
   "metadata": {},
   "outputs": [],
   "source": [
    "df.drop(columns=['AIRLINE_ID', 'ORIGIN_STATE_ABR', 'ORIGIN_STATE_NM', 'DEST_STATE_ABR', 'DEST_STATE_NM'], inplace=True)"
   ]
  },
  {
   "cell_type": "code",
   "execution_count": 20,
   "id": "9f306afa",
   "metadata": {},
   "outputs": [
    {
     "data": {
      "text/plain": [
       "Sum_PASSENGERS         0\n",
       "CARRIER_NAME           0\n",
       "ORIGIN                 0\n",
       "ORIGIN_CITY_NAME       0\n",
       "ORIGIN_COUNTRY         0\n",
       "ORIGIN_COUNTRY_NAME    0\n",
       "DEST                   0\n",
       "DEST_CITY_NAME         0\n",
       "DEST_COUNTRY           0\n",
       "DEST_COUNTRY_NAME      0\n",
       "YEAR                   0\n",
       "MONTH                  0\n",
       "dtype: int64"
      ]
     },
     "execution_count": 20,
     "metadata": {},
     "output_type": "execute_result"
    }
   ],
   "source": [
    "df.isnull().sum()"
   ]
  },
  {
   "cell_type": "code",
   "execution_count": 21,
   "id": "7e836b86",
   "metadata": {},
   "outputs": [
    {
     "data": {
      "text/html": [
       "<div>\n",
       "<style scoped>\n",
       "    .dataframe tbody tr th:only-of-type {\n",
       "        vertical-align: middle;\n",
       "    }\n",
       "\n",
       "    .dataframe tbody tr th {\n",
       "        vertical-align: top;\n",
       "    }\n",
       "\n",
       "    .dataframe thead th {\n",
       "        text-align: right;\n",
       "    }\n",
       "</style>\n",
       "<table border=\"1\" class=\"dataframe\">\n",
       "  <thead>\n",
       "    <tr style=\"text-align: right;\">\n",
       "      <th></th>\n",
       "      <th>Sum_PASSENGERS</th>\n",
       "      <th>CARRIER_NAME</th>\n",
       "      <th>ORIGIN</th>\n",
       "      <th>ORIGIN_CITY_NAME</th>\n",
       "      <th>ORIGIN_COUNTRY</th>\n",
       "      <th>ORIGIN_COUNTRY_NAME</th>\n",
       "      <th>DEST</th>\n",
       "      <th>DEST_CITY_NAME</th>\n",
       "      <th>DEST_COUNTRY</th>\n",
       "      <th>DEST_COUNTRY_NAME</th>\n",
       "      <th>YEAR</th>\n",
       "      <th>MONTH</th>\n",
       "      <th>DATE</th>\n",
       "    </tr>\n",
       "  </thead>\n",
       "  <tbody>\n",
       "    <tr>\n",
       "      <th>0</th>\n",
       "      <td>0</td>\n",
       "      <td>No carrier name</td>\n",
       "      <td>AEX</td>\n",
       "      <td>Alexandria, LA</td>\n",
       "      <td>US</td>\n",
       "      <td>United States</td>\n",
       "      <td>AEX</td>\n",
       "      <td>Alexandria, LA</td>\n",
       "      <td>US</td>\n",
       "      <td>United States</td>\n",
       "      <td>2015</td>\n",
       "      <td>3</td>\n",
       "      <td>3 2015</td>\n",
       "    </tr>\n",
       "    <tr>\n",
       "      <th>1</th>\n",
       "      <td>0</td>\n",
       "      <td>No carrier name</td>\n",
       "      <td>AEX</td>\n",
       "      <td>Alexandria, LA</td>\n",
       "      <td>US</td>\n",
       "      <td>United States</td>\n",
       "      <td>AFW</td>\n",
       "      <td>Dallas/Fort Worth, TX</td>\n",
       "      <td>US</td>\n",
       "      <td>United States</td>\n",
       "      <td>2015</td>\n",
       "      <td>4</td>\n",
       "      <td>4 2015</td>\n",
       "    </tr>\n",
       "    <tr>\n",
       "      <th>2</th>\n",
       "      <td>0</td>\n",
       "      <td>No carrier name</td>\n",
       "      <td>AEX</td>\n",
       "      <td>Alexandria, LA</td>\n",
       "      <td>US</td>\n",
       "      <td>United States</td>\n",
       "      <td>ATL</td>\n",
       "      <td>Atlanta, GA</td>\n",
       "      <td>US</td>\n",
       "      <td>United States</td>\n",
       "      <td>2015</td>\n",
       "      <td>3</td>\n",
       "      <td>3 2015</td>\n",
       "    </tr>\n",
       "    <tr>\n",
       "      <th>3</th>\n",
       "      <td>89</td>\n",
       "      <td>No carrier name</td>\n",
       "      <td>AEX</td>\n",
       "      <td>Alexandria, LA</td>\n",
       "      <td>US</td>\n",
       "      <td>United States</td>\n",
       "      <td>BOG</td>\n",
       "      <td>Bogota, Colombia</td>\n",
       "      <td>CO</td>\n",
       "      <td>Colombia</td>\n",
       "      <td>2015</td>\n",
       "      <td>1</td>\n",
       "      <td>1 2015</td>\n",
       "    </tr>\n",
       "    <tr>\n",
       "      <th>4</th>\n",
       "      <td>108</td>\n",
       "      <td>No carrier name</td>\n",
       "      <td>AEX</td>\n",
       "      <td>Alexandria, LA</td>\n",
       "      <td>US</td>\n",
       "      <td>United States</td>\n",
       "      <td>BOG</td>\n",
       "      <td>Bogota, Colombia</td>\n",
       "      <td>CO</td>\n",
       "      <td>Colombia</td>\n",
       "      <td>2015</td>\n",
       "      <td>3</td>\n",
       "      <td>3 2015</td>\n",
       "    </tr>\n",
       "  </tbody>\n",
       "</table>\n",
       "</div>"
      ],
      "text/plain": [
       "   Sum_PASSENGERS     CARRIER_NAME ORIGIN ORIGIN_CITY_NAME ORIGIN_COUNTRY  \\\n",
       "0               0  No carrier name    AEX   Alexandria, LA             US   \n",
       "1               0  No carrier name    AEX   Alexandria, LA             US   \n",
       "2               0  No carrier name    AEX   Alexandria, LA             US   \n",
       "3              89  No carrier name    AEX   Alexandria, LA             US   \n",
       "4             108  No carrier name    AEX   Alexandria, LA             US   \n",
       "\n",
       "  ORIGIN_COUNTRY_NAME DEST         DEST_CITY_NAME DEST_COUNTRY  \\\n",
       "0       United States  AEX         Alexandria, LA           US   \n",
       "1       United States  AFW  Dallas/Fort Worth, TX           US   \n",
       "2       United States  ATL            Atlanta, GA           US   \n",
       "3       United States  BOG       Bogota, Colombia           CO   \n",
       "4       United States  BOG       Bogota, Colombia           CO   \n",
       "\n",
       "  DEST_COUNTRY_NAME  YEAR  MONTH    DATE  \n",
       "0     United States  2015      3  3 2015  \n",
       "1     United States  2015      4  4 2015  \n",
       "2     United States  2015      3  3 2015  \n",
       "3          Colombia  2015      1  1 2015  \n",
       "4          Colombia  2015      3  3 2015  "
      ]
     },
     "execution_count": 21,
     "metadata": {},
     "output_type": "execute_result"
    }
   ],
   "source": [
    "df['DATE']= df['MONTH'].apply(str)+' '+df['YEAR'].apply(str) \n",
    "df.head()"
   ]
  },
  {
   "cell_type": "code",
   "execution_count": 22,
   "id": "5b06ed74",
   "metadata": {},
   "outputs": [],
   "source": [
    "df.to_csv(\"passenger_data_clean.csv\")"
   ]
  },
  {
   "cell_type": "code",
   "execution_count": null,
   "id": "343d6eb3",
   "metadata": {},
   "outputs": [],
   "source": []
  }
 ],
 "metadata": {
  "kernelspec": {
   "display_name": "Python 3",
   "language": "python",
   "name": "python3"
  },
  "language_info": {
   "codemirror_mode": {
    "name": "ipython",
    "version": 3
   },
   "file_extension": ".py",
   "mimetype": "text/x-python",
   "name": "python",
   "nbconvert_exporter": "python",
   "pygments_lexer": "ipython3",
   "version": "3.8.8"
  }
 },
 "nbformat": 4,
 "nbformat_minor": 5
}
